{
 "cells": [
  {
   "cell_type": "code",
   "execution_count": 2,
   "metadata": {},
   "outputs": [],
   "source": [
    "import pandas as pd\n",
    "import numpy as np\n",
    "import time\n",
    "import matplotlib.pyplot as plt\n",
    "import joblib\n",
    "# from sklearn.preprocessing import StandardScaler,LabelEncoder,OneHotEncoder\n",
    "# from sklearn.linear_model import LinearRegression, LogisticRegression\n",
    "from sklearn.tree import DecisionTreeRegressor\n",
    "from sklearn.ensemble import RandomForestRegressor\n",
    "# from sklearn.svm import SVR, SVC\n",
    "# from sklearn.neighbors import KNeighborsClassifier\n",
    "# from sklearn.naive_bayes import GaussianNB\n",
    "# from sklearn.model_selection import train_test_split\n",
    "from sklearn.base import clone\n",
    "from itertools import product\n",
    "from IPython.display import clear_output\n",
    "import fileinput"
   ]
  },
  {
   "cell_type": "code",
   "execution_count": 3,
   "metadata": {},
   "outputs": [],
   "source": [
    "# Leemmos los archivos CSV y creamos los DataFrames\n",
    "# df_data = pd.read_csv('data/coded_auto_selection_data_race_final_position.csv') \n",
    "# df_test = pd.read_csv('data/test_auto_selection_data_race_final_position.csv') \n",
    "X = pd.read_csv('dataAdjust/DecisionTreeRegressor_auto_racetargetX.csv') \n",
    "Y = pd.read_csv('dataAdjust/DecisionTreeRegressor_auto_racetargetY.csv') \n",
    "X_t = pd.read_csv('dataAdjust/DecisionTreeRegressor_auto_racetargetXt.csv') \n",
    "Y_t = pd.read_csv('dataAdjust/DecisionTreeRegressor_auto_racetargetYt.csv') \n",
    "# X = pd.read_csv('dataAdjust/RandomForestRegressor_auto_racetargetX.csv') \n",
    "# Y = pd.read_csv('dataAdjust/RandomForestRegressor_auto_racetargetY.csv') \n",
    "# X_t = pd.read_csv('dataAdjust/RandomForestRegressor_auto_racetargetXt.csv') \n",
    "# Y_t = pd.read_csv('dataAdjust/RandomForestRegressor_auto_racetargetYt.csv') "
   ]
  },
  {
   "cell_type": "code",
   "execution_count": 3,
   "metadata": {},
   "outputs": [],
   "source": [
    "# Definir los posibles valores de cada parámetro\n",
    "model_dict_regression = {\n",
    "    'DecisionTreeRegressor': DecisionTreeRegressor(),\n",
    "    'RandomForestRegressor': RandomForestRegressor()\n",
    "\n",
    "}\n",
    "model_params = {\n",
    "    'DecisionTreeRegressor':    {  \n",
    "                                    'criterion': ['friedman_mse', 'squared_error', 'poisson'], # 'absolute_error',\n",
    "                                    'splitter': {\"best\", \"random\"},\n",
    "                                    'max_depth': list(np.linspace(5, 50, 5, dtype=int)), #[16], # list(np.linspace(5, 50, 5, dtype=int)) + [None]\n",
    "                                    'max_features' : [\"sqrt\", \"log2\", None] + list(np.linspace(0.1, 1, 10, dtype=float)), \n",
    "                                    'ccp_alpha' : [0.0],#list(np.linspace(0.0, 0.2, 3, dtype=float)), #[0.0, ],\n",
    "                                    'min_samples_split' : [2, 5, 10], #list(np.linspace(1, 5, 5, dtype=int)),\n",
    "                                    'min_samples_leaf' : [1, 2, 4], #list(np.linspace(2, 5, 5, dtype=int)), #'min_samples_leaf': 1, 'min_samples_split': 2\n",
    "                                    # 'max_leaf_nodes' : [2, 5, 10], #list(np.linspace(2, 2000, 3, dtype=int)),\n",
    "                                    # 'min_weight_fraction_leaf' : list(np.linspace(0.0, 0.1, 3, dtype=float)),\n",
    "                                    # 'min_impurity_decrease': list(np.linspace(0.0, 0.1, 3, dtype=float))\n",
    "                                },  \n",
    "#{'criterion': 'friedman_mse', 'max_depth': 16, 'max_features': 98, 'max_leaf_nodes': None, 'max_samples': None, 'min_impurity_decrease': 0.0, 'min_samples_leaf': 1, 'min_samples_split': 2, 'min_weight_fraction_leaf': 0.0, 'n_estimators': 50, 'n_jobs': -1, 'oob_score': False, 'random_state': None, 'verbose': 0, 'warm_start': True}\t\n",
    "    'RandomForestRegressor':    {   'criterion': ['friedman_mse', 'squared_error', 'poisson'], # 'absolute_error',\n",
    "                                    'n_estimators': list(np.linspace(500, 2000, 4, dtype=int)),\n",
    "                                    'max_depth': [16], #list(np.linspace(5, 50, 5, dtype=int)), #[16], # list(np.linspace(5, 50, 5, dtype=int)) + [None]\n",
    "                                    'bootstrap' : [True],\n",
    "                                    'oob_score' : [True],\n",
    "                                    # 'max_samples' : list(np.linspace(10, 100, 5, dtype=int)),\n",
    "                                    # 'random_state' : list(np.linspace(5, 15, 3, dtype=int)),\n",
    "                                    'max_features' : [\"sqrt\", \"log2\", None] + list(np.linspace(0.6, 1, 4, dtype=float)), \n",
    "                                    'warm_start' : [True, False],\n",
    "                                    'ccp_alpha' : [0.0],\n",
    "                                    # 'verbose' : list(np.linspace(0, 5, 3, dtype=int)),\n",
    "                                    'min_samples_split' : [2, 5, 10], #list(np.linspace(1, 5, 5, dtype=int)),\n",
    "                                    'min_samples_leaf' : [1, 2, 4], #list(np.linspace(2, 5, 5, dtype=int)), #'min_samples_leaf': 1, 'min_samples_split': 2\n",
    "                                    # 'max_leaf_nodes' : [2, 5, 10], #list(np.linspace(2, 2000, 3, dtype=int)),\n",
    "                                    # '' : [True, False],\n",
    "                                    'n_jobs':[-1]\n",
    "                                }\n",
    "}"
   ]
  },
  {
   "cell_type": "code",
   "execution_count": 4,
   "metadata": {},
   "outputs": [
    {
     "name": "stdout",
     "output_type": "stream",
     "text": [
      "11\n"
     ]
    }
   ],
   "source": [
    "print(model_params['RandomForestRegressor'].__len__())"
   ]
  },
  {
   "cell_type": "code",
   "execution_count": 5,
   "metadata": {},
   "outputs": [],
   "source": [
    "# Crear el diccionario de modelos con las combinaciones de parámetros\n",
    "model_dict_regression_with_params = {}\n",
    "for model in model_params:\n",
    "    # Crear todas las combinaciones de parámetros\n",
    "    params_values = model_params[model].values()\n",
    "\n",
    "    # Generar todas las combinaciones posibles\n",
    "    param_combinations = product(*params_values)\n",
    "\n",
    "    for num, params_i in enumerate(param_combinations):\n",
    "        params = {}\n",
    "        for indice, key in enumerate(model_params[model].keys()):\n",
    "            params[key] = params_i[indice]\n",
    "        # Duplicar el modelo\n",
    "        model_regression = clone(model_dict_regression[model])\n",
    "        # print(params)\n",
    "        model_regression.set_params(**params)\n",
    "        model_dict_regression_with_params[f'{model}_{num}'] = model_regression\n",
    "        # print(f'{model} with {params}')\n",
    "        # print(model_regression.get_params())\n",
    "\n",
    "dict_variables_objetivo = {\n",
    "    'race_final_position' : model_dict_regression_with_params.keys()#, #model_dict_regression, \n",
    "    # 'race_finish': , \n",
    "    # 'race_winner': model_dict_classifier\n",
    "}"
   ]
  },
  {
   "cell_type": "code",
   "execution_count": 6,
   "metadata": {},
   "outputs": [
    {
     "name": "stdout",
     "output_type": "stream",
     "text": [
      "5022\n"
     ]
    }
   ],
   "source": [
    "print(model_dict_regression_with_params.__len__())"
   ]
  },
  {
   "cell_type": "code",
   "execution_count": 9,
   "metadata": {},
   "outputs": [
    {
     "name": "stdout",
     "output_type": "stream",
     "text": [
      "[5, 16, 27, 38, 50]\n"
     ]
    }
   ],
   "source": [
    "print(list(np.linspace(5, 50, 5, dtype=int)))"
   ]
  },
  {
   "cell_type": "code",
   "execution_count": 11,
   "metadata": {},
   "outputs": [],
   "source": [
    "model_score = {}\n",
    "model_score_malo = {}"
   ]
  },
  {
   "cell_type": "code",
   "execution_count": 8,
   "metadata": {},
   "outputs": [
    {
     "ename": "ValueError",
     "evalue": "max() arg is an empty sequence",
     "output_type": "error",
     "traceback": [
      "\u001b[1;31m---------------------------------------------------------------------------\u001b[0m",
      "\u001b[1;31mValueError\u001b[0m                                Traceback (most recent call last)",
      "Cell \u001b[1;32mIn[8], line 2\u001b[0m\n\u001b[0;32m      1\u001b[0m \u001b[39m# Obtener la máxima puntuación del diccionario\u001b[39;00m\n\u001b[1;32m----> 2\u001b[0m maxima_puntuacion \u001b[39m=\u001b[39m \u001b[39mmax\u001b[39;49m(model_score_malo\u001b[39m.\u001b[39;49mvalues(), key\u001b[39m=\u001b[39;49m\u001b[39mlambda\u001b[39;49;00m x: x[\u001b[39m0\u001b[39;49m])[\u001b[39m0\u001b[39m]\n\u001b[0;32m      3\u001b[0m \u001b[39mprint\u001b[39m(\u001b[39m\"\u001b[39m\u001b[39mmalo \u001b[39m\u001b[39m\"\u001b[39m \u001b[39m+\u001b[39m \u001b[39mstr\u001b[39m(maxima_puntuacion))\n\u001b[0;32m      4\u001b[0m maxima_puntuacion \u001b[39m=\u001b[39m \u001b[39mmax\u001b[39m(model_score\u001b[39m.\u001b[39mvalues(), key\u001b[39m=\u001b[39m\u001b[39mlambda\u001b[39;00m x: x[\u001b[39m0\u001b[39m])[\u001b[39m0\u001b[39m]\n",
      "\u001b[1;31mValueError\u001b[0m: max() arg is an empty sequence"
     ]
    }
   ],
   "source": [
    "# Obtener la máxima puntuación del diccionario\n",
    "maxima_puntuacion = max(model_score_malo.values(), key=lambda x: x[0])[0]\n",
    "print(\"malo \" + str(maxima_puntuacion))\n",
    "maxima_puntuacion = max(model_score.values(), key=lambda x: x[0])[0]\n",
    "print(\"bueno \" + str(maxima_puntuacion))"
   ]
  },
  {
   "cell_type": "code",
   "execution_count": 12,
   "metadata": {},
   "outputs": [
    {
     "name": "stdout",
     "output_type": "stream",
     "text": [
      "Iniciando enternamiento con modelo: RandomForestRegressor_158 target=race_final_position test_size=0.3 random_state=11,params= {'bootstrap': True, 'ccp_alpha': 0.0, 'criterion': 'friedman_mse', 'max_depth': 16, 'max_features': 'log2', 'max_leaf_nodes': None, 'max_samples': None, 'min_impurity_decrease': 0.0, 'min_samples_leaf': 4, 'min_samples_split': 5, 'min_weight_fraction_leaf': 0.0, 'n_estimators': 1000, 'n_jobs': -1, 'oob_score': True, 'random_state': None, 'verbose': 0, 'warm_start': False}...\n"
     ]
    },
    {
     "name": "stderr",
     "output_type": "stream",
     "text": [
      "C:\\Users\\franm\\AppData\\Local\\Temp\\ipykernel_15344\\619106700.py:26: DataConversionWarning: A column-vector y was passed when a 1d array was expected. Please change the shape of y to (n_samples,), for example using ravel().\n",
      "  model.fit(X, Y)\n"
     ]
    },
    {
     "ename": "KeyboardInterrupt",
     "evalue": "",
     "output_type": "error",
     "traceback": [
      "\u001b[1;31m---------------------------------------------------------------------------\u001b[0m",
      "\u001b[1;31mKeyboardInterrupt\u001b[0m                         Traceback (most recent call last)",
      "Cell \u001b[1;32mIn[12], line 26\u001b[0m\n\u001b[0;32m     24\u001b[0m inicio \u001b[39m=\u001b[39m time\u001b[39m.\u001b[39mtime() \n\u001b[0;32m     25\u001b[0m \u001b[39m# model.fit(X_train, y_train)\u001b[39;00m\n\u001b[1;32m---> 26\u001b[0m model\u001b[39m.\u001b[39;49mfit(X, Y)\n\u001b[0;32m     27\u001b[0m fin \u001b[39m=\u001b[39m time\u001b[39m.\u001b[39mtime() \n\u001b[0;32m     28\u001b[0m \u001b[39mprint\u001b[39m(\u001b[39m\"\u001b[39m\u001b[39m... enternamiento completado.\u001b[39m\u001b[39m\"\u001b[39m)\n",
      "File \u001b[1;32mc:\\Users\\franm\\AppData\\Local\\Programs\\Python\\Python311\\Lib\\site-packages\\sklearn\\ensemble\\_forest.py:473\u001b[0m, in \u001b[0;36mBaseForest.fit\u001b[1;34m(self, X, y, sample_weight)\u001b[0m\n\u001b[0;32m    462\u001b[0m trees \u001b[39m=\u001b[39m [\n\u001b[0;32m    463\u001b[0m     \u001b[39mself\u001b[39m\u001b[39m.\u001b[39m_make_estimator(append\u001b[39m=\u001b[39m\u001b[39mFalse\u001b[39;00m, random_state\u001b[39m=\u001b[39mrandom_state)\n\u001b[0;32m    464\u001b[0m     \u001b[39mfor\u001b[39;00m i \u001b[39min\u001b[39;00m \u001b[39mrange\u001b[39m(n_more_estimators)\n\u001b[0;32m    465\u001b[0m ]\n\u001b[0;32m    467\u001b[0m \u001b[39m# Parallel loop: we prefer the threading backend as the Cython code\u001b[39;00m\n\u001b[0;32m    468\u001b[0m \u001b[39m# for fitting the trees is internally releasing the Python GIL\u001b[39;00m\n\u001b[0;32m    469\u001b[0m \u001b[39m# making threading more efficient than multiprocessing in\u001b[39;00m\n\u001b[0;32m    470\u001b[0m \u001b[39m# that case. However, for joblib 0.12+ we respect any\u001b[39;00m\n\u001b[0;32m    471\u001b[0m \u001b[39m# parallel_backend contexts set at a higher level,\u001b[39;00m\n\u001b[0;32m    472\u001b[0m \u001b[39m# since correctness does not rely on using threads.\u001b[39;00m\n\u001b[1;32m--> 473\u001b[0m trees \u001b[39m=\u001b[39m Parallel(\n\u001b[0;32m    474\u001b[0m     n_jobs\u001b[39m=\u001b[39;49m\u001b[39mself\u001b[39;49m\u001b[39m.\u001b[39;49mn_jobs,\n\u001b[0;32m    475\u001b[0m     verbose\u001b[39m=\u001b[39;49m\u001b[39mself\u001b[39;49m\u001b[39m.\u001b[39;49mverbose,\n\u001b[0;32m    476\u001b[0m     prefer\u001b[39m=\u001b[39;49m\u001b[39m\"\u001b[39;49m\u001b[39mthreads\u001b[39;49m\u001b[39m\"\u001b[39;49m,\n\u001b[0;32m    477\u001b[0m )(\n\u001b[0;32m    478\u001b[0m     delayed(_parallel_build_trees)(\n\u001b[0;32m    479\u001b[0m         t,\n\u001b[0;32m    480\u001b[0m         \u001b[39mself\u001b[39;49m\u001b[39m.\u001b[39;49mbootstrap,\n\u001b[0;32m    481\u001b[0m         X,\n\u001b[0;32m    482\u001b[0m         y,\n\u001b[0;32m    483\u001b[0m         sample_weight,\n\u001b[0;32m    484\u001b[0m         i,\n\u001b[0;32m    485\u001b[0m         \u001b[39mlen\u001b[39;49m(trees),\n\u001b[0;32m    486\u001b[0m         verbose\u001b[39m=\u001b[39;49m\u001b[39mself\u001b[39;49m\u001b[39m.\u001b[39;49mverbose,\n\u001b[0;32m    487\u001b[0m         class_weight\u001b[39m=\u001b[39;49m\u001b[39mself\u001b[39;49m\u001b[39m.\u001b[39;49mclass_weight,\n\u001b[0;32m    488\u001b[0m         n_samples_bootstrap\u001b[39m=\u001b[39;49mn_samples_bootstrap,\n\u001b[0;32m    489\u001b[0m     )\n\u001b[0;32m    490\u001b[0m     \u001b[39mfor\u001b[39;49;00m i, t \u001b[39min\u001b[39;49;00m \u001b[39menumerate\u001b[39;49m(trees)\n\u001b[0;32m    491\u001b[0m )\n\u001b[0;32m    493\u001b[0m \u001b[39m# Collect newly grown trees\u001b[39;00m\n\u001b[0;32m    494\u001b[0m \u001b[39mself\u001b[39m\u001b[39m.\u001b[39mestimators_\u001b[39m.\u001b[39mextend(trees)\n",
      "File \u001b[1;32mc:\\Users\\franm\\AppData\\Local\\Programs\\Python\\Python311\\Lib\\site-packages\\sklearn\\utils\\parallel.py:63\u001b[0m, in \u001b[0;36mParallel.__call__\u001b[1;34m(self, iterable)\u001b[0m\n\u001b[0;32m     58\u001b[0m config \u001b[39m=\u001b[39m get_config()\n\u001b[0;32m     59\u001b[0m iterable_with_config \u001b[39m=\u001b[39m (\n\u001b[0;32m     60\u001b[0m     (_with_config(delayed_func, config), args, kwargs)\n\u001b[0;32m     61\u001b[0m     \u001b[39mfor\u001b[39;00m delayed_func, args, kwargs \u001b[39min\u001b[39;00m iterable\n\u001b[0;32m     62\u001b[0m )\n\u001b[1;32m---> 63\u001b[0m \u001b[39mreturn\u001b[39;00m \u001b[39msuper\u001b[39;49m()\u001b[39m.\u001b[39;49m\u001b[39m__call__\u001b[39;49m(iterable_with_config)\n",
      "File \u001b[1;32mc:\\Users\\franm\\AppData\\Local\\Programs\\Python\\Python311\\Lib\\site-packages\\joblib\\parallel.py:1098\u001b[0m, in \u001b[0;36mParallel.__call__\u001b[1;34m(self, iterable)\u001b[0m\n\u001b[0;32m   1095\u001b[0m     \u001b[39mself\u001b[39m\u001b[39m.\u001b[39m_iterating \u001b[39m=\u001b[39m \u001b[39mFalse\u001b[39;00m\n\u001b[0;32m   1097\u001b[0m \u001b[39mwith\u001b[39;00m \u001b[39mself\u001b[39m\u001b[39m.\u001b[39m_backend\u001b[39m.\u001b[39mretrieval_context():\n\u001b[1;32m-> 1098\u001b[0m     \u001b[39mself\u001b[39;49m\u001b[39m.\u001b[39;49mretrieve()\n\u001b[0;32m   1099\u001b[0m \u001b[39m# Make sure that we get a last message telling us we are done\u001b[39;00m\n\u001b[0;32m   1100\u001b[0m elapsed_time \u001b[39m=\u001b[39m time\u001b[39m.\u001b[39mtime() \u001b[39m-\u001b[39m \u001b[39mself\u001b[39m\u001b[39m.\u001b[39m_start_time\n",
      "File \u001b[1;32mc:\\Users\\franm\\AppData\\Local\\Programs\\Python\\Python311\\Lib\\site-packages\\joblib\\parallel.py:975\u001b[0m, in \u001b[0;36mParallel.retrieve\u001b[1;34m(self)\u001b[0m\n\u001b[0;32m    973\u001b[0m \u001b[39mtry\u001b[39;00m:\n\u001b[0;32m    974\u001b[0m     \u001b[39mif\u001b[39;00m \u001b[39mgetattr\u001b[39m(\u001b[39mself\u001b[39m\u001b[39m.\u001b[39m_backend, \u001b[39m'\u001b[39m\u001b[39msupports_timeout\u001b[39m\u001b[39m'\u001b[39m, \u001b[39mFalse\u001b[39;00m):\n\u001b[1;32m--> 975\u001b[0m         \u001b[39mself\u001b[39m\u001b[39m.\u001b[39m_output\u001b[39m.\u001b[39mextend(job\u001b[39m.\u001b[39;49mget(timeout\u001b[39m=\u001b[39;49m\u001b[39mself\u001b[39;49m\u001b[39m.\u001b[39;49mtimeout))\n\u001b[0;32m    976\u001b[0m     \u001b[39melse\u001b[39;00m:\n\u001b[0;32m    977\u001b[0m         \u001b[39mself\u001b[39m\u001b[39m.\u001b[39m_output\u001b[39m.\u001b[39mextend(job\u001b[39m.\u001b[39mget())\n",
      "File \u001b[1;32mc:\\Users\\franm\\AppData\\Local\\Programs\\Python\\Python311\\Lib\\multiprocessing\\pool.py:768\u001b[0m, in \u001b[0;36mApplyResult.get\u001b[1;34m(self, timeout)\u001b[0m\n\u001b[0;32m    767\u001b[0m \u001b[39mdef\u001b[39;00m \u001b[39mget\u001b[39m(\u001b[39mself\u001b[39m, timeout\u001b[39m=\u001b[39m\u001b[39mNone\u001b[39;00m):\n\u001b[1;32m--> 768\u001b[0m     \u001b[39mself\u001b[39;49m\u001b[39m.\u001b[39;49mwait(timeout)\n\u001b[0;32m    769\u001b[0m     \u001b[39mif\u001b[39;00m \u001b[39mnot\u001b[39;00m \u001b[39mself\u001b[39m\u001b[39m.\u001b[39mready():\n\u001b[0;32m    770\u001b[0m         \u001b[39mraise\u001b[39;00m \u001b[39mTimeoutError\u001b[39;00m\n",
      "File \u001b[1;32mc:\\Users\\franm\\AppData\\Local\\Programs\\Python\\Python311\\Lib\\multiprocessing\\pool.py:765\u001b[0m, in \u001b[0;36mApplyResult.wait\u001b[1;34m(self, timeout)\u001b[0m\n\u001b[0;32m    764\u001b[0m \u001b[39mdef\u001b[39;00m \u001b[39mwait\u001b[39m(\u001b[39mself\u001b[39m, timeout\u001b[39m=\u001b[39m\u001b[39mNone\u001b[39;00m):\n\u001b[1;32m--> 765\u001b[0m     \u001b[39mself\u001b[39;49m\u001b[39m.\u001b[39;49m_event\u001b[39m.\u001b[39;49mwait(timeout)\n",
      "File \u001b[1;32mc:\\Users\\franm\\AppData\\Local\\Programs\\Python\\Python311\\Lib\\threading.py:622\u001b[0m, in \u001b[0;36mEvent.wait\u001b[1;34m(self, timeout)\u001b[0m\n\u001b[0;32m    620\u001b[0m signaled \u001b[39m=\u001b[39m \u001b[39mself\u001b[39m\u001b[39m.\u001b[39m_flag\n\u001b[0;32m    621\u001b[0m \u001b[39mif\u001b[39;00m \u001b[39mnot\u001b[39;00m signaled:\n\u001b[1;32m--> 622\u001b[0m     signaled \u001b[39m=\u001b[39m \u001b[39mself\u001b[39;49m\u001b[39m.\u001b[39;49m_cond\u001b[39m.\u001b[39;49mwait(timeout)\n\u001b[0;32m    623\u001b[0m \u001b[39mreturn\u001b[39;00m signaled\n",
      "File \u001b[1;32mc:\\Users\\franm\\AppData\\Local\\Programs\\Python\\Python311\\Lib\\threading.py:320\u001b[0m, in \u001b[0;36mCondition.wait\u001b[1;34m(self, timeout)\u001b[0m\n\u001b[0;32m    318\u001b[0m \u001b[39mtry\u001b[39;00m:    \u001b[39m# restore state no matter what (e.g., KeyboardInterrupt)\u001b[39;00m\n\u001b[0;32m    319\u001b[0m     \u001b[39mif\u001b[39;00m timeout \u001b[39mis\u001b[39;00m \u001b[39mNone\u001b[39;00m:\n\u001b[1;32m--> 320\u001b[0m         waiter\u001b[39m.\u001b[39;49macquire()\n\u001b[0;32m    321\u001b[0m         gotit \u001b[39m=\u001b[39m \u001b[39mTrue\u001b[39;00m\n\u001b[0;32m    322\u001b[0m     \u001b[39melse\u001b[39;00m:\n",
      "\u001b[1;31mKeyboardInterrupt\u001b[0m: "
     ]
    }
   ],
   "source": [
    "\n",
    "variables_a_eleiminar = ['race_final_position', 'race_finish', 'race_status', 'race_winner', 'race_points_won']\n",
    "for variable_objetivo in dict_variables_objetivo.keys():\n",
    "    # # Eliminamos las variables objetivo del DataFrame\n",
    "    # X = df_data.drop(variables_a_eleiminar, axis=1)  \n",
    "    # # Guardamos las variables a predecir\n",
    "    # y = df_data[variable_objetivo].values\n",
    "    # df_test_obj = df_test[variable_objetivo].values\n",
    "\n",
    "    # df_test_pred = df_test.drop(variables_a_eleiminar, axis=1)\n",
    "\n",
    "    # # Dividimos los datos en conjuntos de entrenamiento y prueba\n",
    "    # ts = 0.3\n",
    "    # rs = 11\n",
    "    # # X_train, X_test, y_train, y_test = train_test_split(X, y, test_size=ts, random_state=rs)\n",
    "    # X_train = X\n",
    "    # y_train = y.ravel()\n",
    "    for model_name in dict_variables_objetivo[variable_objetivo]:\n",
    "        clear_output(wait=True)\n",
    "        # Construimos y entrenamos el modelo con las características seleccionadas\n",
    "        model = model_dict_regression_with_params[model_name] #max_iter=1000\n",
    "        model_features = f\"{model_name} target={variable_objetivo} test_size={ts} random_state={rs},params= {model.get_params()}\"\n",
    "\n",
    "        print(f'Iniciando enternamiento con modelo: {model_features}...')\n",
    "        inicio = time.time() \n",
    "        # model.fit(X_train, y_train)\n",
    "        model.fit(X, Y)\n",
    "        fin = time.time() \n",
    "        print(\"... enternamiento completado.\")\n",
    "        tiempo_ejecucion = fin - inicio  \n",
    "        print(f\"Tiempo de ejecución: {tiempo_ejecucion:.2f} segundos\")\n",
    "\n",
    "        # Evaluamos el modelo con el conjunto de prueba\n",
    "        print(\"Iniciando evaluación...\")\n",
    "        # accuracy = model.score(df_test_pred, df_test_obj) # (X_test, y_test)\n",
    "        accuracy = model.score(X_t, Y_t) # (X_test, y_test)\n",
    "        print(\"... evaluación completada.\")\n",
    "        print(f\"Accuracy: {accuracy:.2f}\")\n",
    "\n",
    "        model_score[f'{model_name}'] = [accuracy, model.get_params(), tiempo_ejecucion]\n",
    "\n",
    "        # # Guardamos el modelo entrenado\n",
    "        # joblib.dump(model, f'../app/train_models/trained_model_{model_name}_{i}.pkl')\n",
    "\n",
    "        # Nombre del archivo de texto\n",
    "        nombre_archivo = \"resultados_wit_params2.txt\"\n",
    "\n",
    "        # Abrir el archivo en modo de escritura agregada\n",
    "        with open(nombre_archivo, \"a\") as archivo:\n",
    "            # Escribir la información en el archivo\n",
    "            archivo.write(f\"Modelo: {model_features}\\t\\n\")\n",
    "            archivo.write(f\"\\tAccuracy: {accuracy}\\n\")\n",
    "            archivo.write(\"-\" * 20 + \"\\n\")  # Separador de resultados\n",
    "    "
   ]
  },
  {
   "cell_type": "code",
   "execution_count": 13,
   "metadata": {},
   "outputs": [
    {
     "name": "stdout",
     "output_type": "stream",
     "text": [
      "[0.4569279407135267, {'bootstrap': True, 'ccp_alpha': 0.0, 'criterion': 'friedman_mse', 'max_depth': 16, 'max_features': 0.6, 'max_leaf_nodes': None, 'max_samples': None, 'min_impurity_decrease': 0.0, 'min_samples_leaf': 4, 'min_samples_split': 10, 'min_weight_fraction_leaf': 0.0, 'n_estimators': 500, 'n_jobs': -1, 'oob_score': True, 'random_state': None, 'verbose': 0, 'warm_start': True}, 31.325207233428955]\n"
     ]
    }
   ],
   "source": [
    "# Obtener la máxima puntuación del diccionario\n",
    "maxima_puntuacion = max(model_score.values(), key=lambda x: x[0])\n",
    "print(maxima_puntuacion)\n",
    "# bueno 0.46143863171581057\n",
    "# dict_bueno = [0.46143863171581057, {'ccp_alpha': 0.0, 'criterion': 'poisson', 'max_depth': 5, 'max_features': 0.5, 'max_leaf_nodes': None, 'min_impurity_decrease': 0.0, 'min_samples_leaf': 2, 'min_samples_split': 5, 'min_weight_fraction_leaf': 0.0, 'random_state': None, 'splitter': 'best'}, 0.08182525634765625]\n",
    "# ramm_bueno = [0.4569279407135267, {'bootstrap': True, 'ccp_alpha': 0.0, 'criterion': 'friedman_mse', 'max_depth': 16, 'max_features': 0.6, 'max_leaf_nodes': None, 'max_samples': None, 'min_impurity_decrease': 0.0, 'min_samples_leaf': 4, 'min_samples_split': 10, 'min_weight_fraction_leaf': 0.0, 'n_estimators': 500, 'n_jobs': -1, 'oob_score': True, 'random_state': None, 'verbose': 0, 'warm_start': True}, 31.325207233428955\n",
    "#  'DecisionTreeRegressor_1510': [0.7023443571874328, {'ccp_alpha': 0.0, 'criterion': 'squared_error', 'max_depth': 27, 'max_features': 0.9, 'max_leaf_nodes': None, 'min_impurity_decrease': 0.0, 'min_samples_leaf': 2, 'min_samples_split': 10, 'min_weight_fraction_leaf': 0.0, 'random_state': None, 'splitter': 'random'}, 0.2677452564239502], \n",
    "#  'DecisionTreeRegressor_1539': [0.7049058767139202, {'ccp_alpha': 0.0, 'criterion': 'squared_error', 'max_depth': 38, 'max_features': None, 'max_leaf_nodes': None, 'min_impurity_decrease': 0.0, 'min_samples_leaf': 1, 'min_samples_split': 2, 'min_weight_fraction_leaf': 0.0, 'random_state': None, 'splitter': 'random'}, 0.38211679458618164]}"
   ]
  },
  {
   "cell_type": "code",
   "execution_count": 18,
   "metadata": {},
   "outputs": [],
   "source": [
    "dict_final = {\n",
    "    'DecisionTreeRegressor_manual': 0.1,\n",
    "    'DecisionTreeRegressor_RFE': -0.1,\n",
    "    'DecisionTreeRegressor_set_REF': 0.46143863,\n",
    "    'RandomForestRegressor_manual': 0.4192,\n",
    "    'RandomForestRegressor_set_REF': 0.433310,\n",
    "    'RandomForestRegressor_RFE': 0.4195\n",
    "}"
   ]
  },
  {
   "cell_type": "code",
   "execution_count": null,
   "metadata": {},
   "outputs": [],
   "source": []
  },
  {
   "cell_type": "code",
   "execution_count": 36,
   "metadata": {},
   "outputs": [
    {
     "name": "stdout",
     "output_type": "stream",
     "text": [
      "Iniciando enternamiento con modelo: ...\n"
     ]
    },
    {
     "name": "stderr",
     "output_type": "stream",
     "text": [
      "C:\\Users\\franm\\AppData\\Local\\Temp\\ipykernel_23844\\1070679915.py:9: DataConversionWarning: A column-vector y was passed when a 1d array was expected. Please change the shape of y to (n_samples,), for example using ravel().\n",
      "  model.fit(X, Y)\n"
     ]
    },
    {
     "name": "stdout",
     "output_type": "stream",
     "text": [
      "... enternamiento completado.\n",
      "Tiempo de ejecución: 20.14 segundos\n",
      "Iniciando evaluación...\n",
      "... evaluación completada.\n",
      "Accuracy: 0.46\n"
     ]
    },
    {
     "data": {
      "text/plain": [
       "['../app3/trained_model_race_pos3.pkl']"
      ]
     },
     "execution_count": 36,
     "metadata": {},
     "output_type": "execute_result"
    }
   ],
   "source": [
    "model = RandomForestRegressor()\n",
    "params = {'bootstrap': True, 'ccp_alpha': 0.0, 'criterion': 'friedman_mse', 'max_depth': 16, 'max_features': 0.6, 'max_leaf_nodes': None, 'max_samples': None, 'min_impurity_decrease': 0.0, 'min_samples_leaf': 4, 'min_samples_split': 10, 'min_weight_fraction_leaf': 0.0, 'n_estimators': 500, 'n_jobs': -1, 'oob_score': True, 'random_state': None, 'verbose': 0, 'warm_start': True}\n",
    "# model = DecisionTreeRegressor()\n",
    "# params = {'ccp_alpha': 0.0, 'criterion': 'poisson', 'max_depth': 5, 'max_features': 0.5, 'max_leaf_nodes': None, 'min_impurity_decrease': 0.0, 'min_samples_leaf': 2, 'min_samples_split': 5, 'min_weight_fraction_leaf': 0.0, 'random_state': None, 'splitter': 'best'}\n",
    "model.set_params(**params)\n",
    "print(f'Iniciando enternamiento con modelo: ...')\n",
    "inicio = time.time() \n",
    "# model.fit(X_train, y_train)\n",
    "model.fit(X, Y)\n",
    "fin = time.time() \n",
    "print(\"... enternamiento completado.\")\n",
    "tiempo_ejecucion = fin - inicio  \n",
    "print(f\"Tiempo de ejecución: {tiempo_ejecucion:.2f} segundos\")\n",
    "\n",
    "# Evaluamos el modelo con el conjunto de prueba\n",
    "print(\"Iniciando evaluación...\")\n",
    "# accuracy = model.score(df_test_pred, df_test_obj) # (X_test, y_test)\n",
    "accuracy = model.score(X_t, Y_t) # (X_test, y_test)\n",
    "print(\"... evaluación completada.\")\n",
    "print(f\"Accuracy: {accuracy:.2f}\")\n",
    "\n",
    "# Guardamos el modelo entrenado\n",
    "joblib.dump(model, f'../app3/trained_model_race_pos3.pkl')"
   ]
  },
  {
   "cell_type": "code",
   "execution_count": 37,
   "metadata": {},
   "outputs": [],
   "source": [
    "dict_final = {\n",
    "    'DecisionTreeRegressor_manual': -0.12,\n",
    "    'DecisionTreeRegressor_RFE': -0.13,\n",
    "    'DecisionTreeRegressor_set_REF': 0.45692,\n",
    "    'RandomForestRegressor_manual': 0.4112,\n",
    "    'RandomForestRegressor_set_REF': 0.461438,\n",
    "    'RandomForestRegressor_RFE': 0.4195\n",
    "}"
   ]
  },
  {
   "attachments": {},
   "cell_type": "markdown",
   "metadata": {},
   "source": [
    "***Gráficos de evalución***"
   ]
  },
  {
   "cell_type": "code",
   "execution_count": 38,
   "metadata": {},
   "outputs": [
    {
     "data": {
      "image/png": "[encoded data removed]",
      "text/plain": [
       "<Figure size 640x480 with 1 Axes>"
      ]
     },
     "metadata": {},
     "output_type": "display_data"
    }
   ],
   "source": [
    "# for target in model_score.keys():\n",
    "# diccionario_ordenado = dict(sorted(variable_obj_models_score[target].items(), key=lambda x: x[0]))\n",
    "keys = dict_final.keys()\n",
    "# keys = [palabra.replace('auto_race', 'RFE') for palabra in keys]\n",
    "# keys = [palabra.replace('auto_winner', 'RFE') for palabra in keys]\n",
    "# keys = [palabra.replace('auto_pole', 'RFE') for palabra in keys]\n",
    "values = [item*100 for item in dict_final.values()]\n",
    "\n",
    "# Crear el gráfico de barras\n",
    "plt.bar(keys, values)\n",
    "\n",
    "# Personalizar el gráfico\n",
    "plt.xlabel('Algortimo')\n",
    "plt.ylabel('Eficiencia (%)')\n",
    "# plt.title(f'Eficiencia de los modelos para predecir {dict_target[target]}')\n",
    "plt.xticks(rotation=90)\n",
    "\n",
    "# Mostrar el gráfico\n",
    "plt.show()"
   ]
  },
  {
   "attachments": {},
   "cell_type": "markdown",
   "metadata": {},
   "source": [
    "***Gráficos de tiempos de ejecución***"
   ]
  },
  {
   "cell_type": "code",
   "execution_count": null,
   "metadata": {},
   "outputs": [],
   "source": []
  }
 ],
 "metadata": {
  "kernelspec": {
   "display_name": "Python 3",
   "language": "python",
   "name": "python3"
  },
  "language_info": {
   "codemirror_mode": {
    "name": "ipython",
    "version": 3
   },
   "file_extension": ".py",
   "mimetype": "text/x-python",
   "name": "python",
   "nbconvert_exporter": "python",
   "pygments_lexer": "ipython3",
   "version": "3.11.3"
  },
  "orig_nbformat": 4
 },
 "nbformat": 4,
 "nbformat_minor": 2
}
